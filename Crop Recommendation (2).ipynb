{
 "cells": [
  {
   "cell_type": "markdown",
   "id": "258982fc",
   "metadata": {},
   "source": [
    "# Importing Libraries  "
   ]
  },
  {
   "cell_type": "code",
   "execution_count": 42,
   "id": "f01cda6d",
   "metadata": {},
   "outputs": [],
   "source": [
    "import pandas as pd\n",
    "import numpy as np\n",
    "import matplotlib.pyplot as plt\n",
    "import seaborn as sns"
   ]
  },
  {
   "cell_type": "markdown",
   "id": "3132a5cf",
   "metadata": {},
   "source": [
    "# Importing Dataset "
   ]
  },
  {
   "cell_type": "code",
   "execution_count": 43,
   "id": "59f131c4",
   "metadata": {},
   "outputs": [],
   "source": [
    "file = pd.read_csv(r\"C:\\Users\\CCC\\Downloads\\Crop_recommendation_new1.csv\")"
   ]
  },
  {
   "cell_type": "code",
   "execution_count": 44,
   "id": "9283ee65",
   "metadata": {},
   "outputs": [
    {
     "data": {
      "text/html": [
       "<div>\n",
       "<style scoped>\n",
       "    .dataframe tbody tr th:only-of-type {\n",
       "        vertical-align: middle;\n",
       "    }\n",
       "\n",
       "    .dataframe tbody tr th {\n",
       "        vertical-align: top;\n",
       "    }\n",
       "\n",
       "    .dataframe thead th {\n",
       "        text-align: right;\n",
       "    }\n",
       "</style>\n",
       "<table border=\"1\" class=\"dataframe\">\n",
       "  <thead>\n",
       "    <tr style=\"text-align: right;\">\n",
       "      <th></th>\n",
       "      <th>N</th>\n",
       "      <th>P</th>\n",
       "      <th>K</th>\n",
       "      <th>temperature</th>\n",
       "      <th>humidity</th>\n",
       "      <th>ph</th>\n",
       "      <th>rainfall</th>\n",
       "      <th>label</th>\n",
       "      <th>land_type</th>\n",
       "    </tr>\n",
       "  </thead>\n",
       "  <tbody>\n",
       "    <tr>\n",
       "      <th>0</th>\n",
       "      <td>40.0</td>\n",
       "      <td>49</td>\n",
       "      <td>47</td>\n",
       "      <td>42.933686</td>\n",
       "      <td>91.175675</td>\n",
       "      <td>6.501521</td>\n",
       "      <td>246.361327</td>\n",
       "      <td>papaya</td>\n",
       "      <td>Hilly</td>\n",
       "    </tr>\n",
       "    <tr>\n",
       "      <th>1</th>\n",
       "      <td>86.0</td>\n",
       "      <td>6</td>\n",
       "      <td>53</td>\n",
       "      <td>25.920302</td>\n",
       "      <td>83.472026</td>\n",
       "      <td>6.921848</td>\n",
       "      <td>42.106815</td>\n",
       "      <td>watermelon</td>\n",
       "      <td>Hilly</td>\n",
       "    </tr>\n",
       "    <tr>\n",
       "      <th>2</th>\n",
       "      <td>20.0</td>\n",
       "      <td>68</td>\n",
       "      <td>23</td>\n",
       "      <td>25.549606</td>\n",
       "      <td>63.954255</td>\n",
       "      <td>7.707332</td>\n",
       "      <td>63.183053</td>\n",
       "      <td>blackgram</td>\n",
       "      <td>plain</td>\n",
       "    </tr>\n",
       "    <tr>\n",
       "      <th>3</th>\n",
       "      <td>69.0</td>\n",
       "      <td>67</td>\n",
       "      <td>52</td>\n",
       "      <td>27.719490</td>\n",
       "      <td>94.438771</td>\n",
       "      <td>6.827306</td>\n",
       "      <td>82.830611</td>\n",
       "      <td>papaya</td>\n",
       "      <td>Hilly</td>\n",
       "    </tr>\n",
       "    <tr>\n",
       "      <th>4</th>\n",
       "      <td>93.0</td>\n",
       "      <td>83</td>\n",
       "      <td>46</td>\n",
       "      <td>29.382540</td>\n",
       "      <td>83.504237</td>\n",
       "      <td>5.765309</td>\n",
       "      <td>109.248665</td>\n",
       "      <td>banana</td>\n",
       "      <td>Hilly</td>\n",
       "    </tr>\n",
       "  </tbody>\n",
       "</table>\n",
       "</div>"
      ],
      "text/plain": [
       "      N   P   K  temperature   humidity        ph    rainfall       label  \\\n",
       "0  40.0  49  47    42.933686  91.175675  6.501521  246.361327      papaya   \n",
       "1  86.0   6  53    25.920302  83.472026  6.921848   42.106815  watermelon   \n",
       "2  20.0  68  23    25.549606  63.954255  7.707332   63.183053   blackgram   \n",
       "3  69.0  67  52    27.719490  94.438771  6.827306   82.830611      papaya   \n",
       "4  93.0  83  46    29.382540  83.504237  5.765309  109.248665      banana   \n",
       "\n",
       "  land_type  \n",
       "0     Hilly  \n",
       "1     Hilly  \n",
       "2     plain  \n",
       "3     Hilly  \n",
       "4     Hilly  "
      ]
     },
     "execution_count": 44,
     "metadata": {},
     "output_type": "execute_result"
    }
   ],
   "source": [
    "file.head()"
   ]
  },
  {
   "cell_type": "code",
   "execution_count": 45,
   "id": "385577cf",
   "metadata": {
    "scrolled": true
   },
   "outputs": [
    {
     "name": "stdout",
     "output_type": "stream",
     "text": [
      "<class 'pandas.core.frame.DataFrame'>\n",
      "RangeIndex: 4327 entries, 0 to 4326\n",
      "Data columns (total 9 columns):\n",
      " #   Column       Non-Null Count  Dtype  \n",
      "---  ------       --------------  -----  \n",
      " 0   N            4326 non-null   float64\n",
      " 1   P            4327 non-null   int64  \n",
      " 2   K            4327 non-null   int64  \n",
      " 3   temperature  4327 non-null   float64\n",
      " 4   humidity     4327 non-null   float64\n",
      " 5   ph           4327 non-null   float64\n",
      " 6   rainfall     4327 non-null   float64\n",
      " 7   label        4327 non-null   object \n",
      " 8   land_type    4327 non-null   object \n",
      "dtypes: float64(5), int64(2), object(2)\n",
      "memory usage: 304.4+ KB\n"
     ]
    }
   ],
   "source": [
    "file.info()"
   ]
  },
  {
   "cell_type": "code",
   "execution_count": 46,
   "id": "635d7a74",
   "metadata": {},
   "outputs": [
    {
     "data": {
      "text/html": [
       "<div>\n",
       "<style scoped>\n",
       "    .dataframe tbody tr th:only-of-type {\n",
       "        vertical-align: middle;\n",
       "    }\n",
       "\n",
       "    .dataframe tbody tr th {\n",
       "        vertical-align: top;\n",
       "    }\n",
       "\n",
       "    .dataframe thead th {\n",
       "        text-align: right;\n",
       "    }\n",
       "</style>\n",
       "<table border=\"1\" class=\"dataframe\">\n",
       "  <thead>\n",
       "    <tr style=\"text-align: right;\">\n",
       "      <th></th>\n",
       "      <th>N</th>\n",
       "      <th>P</th>\n",
       "      <th>K</th>\n",
       "      <th>temperature</th>\n",
       "      <th>humidity</th>\n",
       "      <th>ph</th>\n",
       "      <th>rainfall</th>\n",
       "    </tr>\n",
       "  </thead>\n",
       "  <tbody>\n",
       "    <tr>\n",
       "      <th>count</th>\n",
       "      <td>4326.000000</td>\n",
       "      <td>4327.000000</td>\n",
       "      <td>4327.000000</td>\n",
       "      <td>4327.000000</td>\n",
       "      <td>4327.000000</td>\n",
       "      <td>4327.000000</td>\n",
       "      <td>4327.000000</td>\n",
       "    </tr>\n",
       "    <tr>\n",
       "      <th>mean</th>\n",
       "      <td>50.047157</td>\n",
       "      <td>53.453894</td>\n",
       "      <td>48.288190</td>\n",
       "      <td>25.652914</td>\n",
       "      <td>71.301617</td>\n",
       "      <td>6.469779</td>\n",
       "      <td>101.166318</td>\n",
       "    </tr>\n",
       "    <tr>\n",
       "      <th>std</th>\n",
       "      <td>36.973849</td>\n",
       "      <td>33.235283</td>\n",
       "      <td>51.054886</td>\n",
       "      <td>5.091353</td>\n",
       "      <td>22.403944</td>\n",
       "      <td>0.774170</td>\n",
       "      <td>52.295036</td>\n",
       "    </tr>\n",
       "    <tr>\n",
       "      <th>min</th>\n",
       "      <td>0.000000</td>\n",
       "      <td>5.000000</td>\n",
       "      <td>5.000000</td>\n",
       "      <td>8.825675</td>\n",
       "      <td>14.258040</td>\n",
       "      <td>3.504752</td>\n",
       "      <td>20.211267</td>\n",
       "    </tr>\n",
       "    <tr>\n",
       "      <th>25%</th>\n",
       "      <td>21.000000</td>\n",
       "      <td>28.000000</td>\n",
       "      <td>20.000000</td>\n",
       "      <td>22.782419</td>\n",
       "      <td>60.078257</td>\n",
       "      <td>5.972715</td>\n",
       "      <td>64.178328</td>\n",
       "    </tr>\n",
       "    <tr>\n",
       "      <th>50%</th>\n",
       "      <td>36.500000</td>\n",
       "      <td>51.000000</td>\n",
       "      <td>31.000000</td>\n",
       "      <td>25.640044</td>\n",
       "      <td>80.303518</td>\n",
       "      <td>6.425420</td>\n",
       "      <td>93.923759</td>\n",
       "    </tr>\n",
       "    <tr>\n",
       "      <th>75%</th>\n",
       "      <td>84.000000</td>\n",
       "      <td>68.000000</td>\n",
       "      <td>49.000000</td>\n",
       "      <td>28.599768</td>\n",
       "      <td>90.037201</td>\n",
       "      <td>6.920171</td>\n",
       "      <td>120.951247</td>\n",
       "    </tr>\n",
       "    <tr>\n",
       "      <th>max</th>\n",
       "      <td>140.000000</td>\n",
       "      <td>145.000000</td>\n",
       "      <td>205.000000</td>\n",
       "      <td>43.675493</td>\n",
       "      <td>99.981876</td>\n",
       "      <td>9.935091</td>\n",
       "      <td>298.560117</td>\n",
       "    </tr>\n",
       "  </tbody>\n",
       "</table>\n",
       "</div>"
      ],
      "text/plain": [
       "                 N            P            K  temperature     humidity  \\\n",
       "count  4326.000000  4327.000000  4327.000000  4327.000000  4327.000000   \n",
       "mean     50.047157    53.453894    48.288190    25.652914    71.301617   \n",
       "std      36.973849    33.235283    51.054886     5.091353    22.403944   \n",
       "min       0.000000     5.000000     5.000000     8.825675    14.258040   \n",
       "25%      21.000000    28.000000    20.000000    22.782419    60.078257   \n",
       "50%      36.500000    51.000000    31.000000    25.640044    80.303518   \n",
       "75%      84.000000    68.000000    49.000000    28.599768    90.037201   \n",
       "max     140.000000   145.000000   205.000000    43.675493    99.981876   \n",
       "\n",
       "                ph     rainfall  \n",
       "count  4327.000000  4327.000000  \n",
       "mean      6.469779   101.166318  \n",
       "std       0.774170    52.295036  \n",
       "min       3.504752    20.211267  \n",
       "25%       5.972715    64.178328  \n",
       "50%       6.425420    93.923759  \n",
       "75%       6.920171   120.951247  \n",
       "max       9.935091   298.560117  "
      ]
     },
     "execution_count": 46,
     "metadata": {},
     "output_type": "execute_result"
    }
   ],
   "source": [
    "file.describe()"
   ]
  },
  {
   "cell_type": "code",
   "execution_count": 47,
   "id": "23006c70",
   "metadata": {},
   "outputs": [
    {
     "data": {
      "text/plain": [
       "(4327, 9)"
      ]
     },
     "execution_count": 47,
     "metadata": {},
     "output_type": "execute_result"
    }
   ],
   "source": [
    "file.shape"
   ]
  },
  {
   "cell_type": "code",
   "execution_count": 48,
   "id": "d6b2f564",
   "metadata": {},
   "outputs": [
    {
     "data": {
      "text/plain": [
       "38943"
      ]
     },
     "execution_count": 48,
     "metadata": {},
     "output_type": "execute_result"
    }
   ],
   "source": [
    "file.size"
   ]
  },
  {
   "cell_type": "code",
   "execution_count": 49,
   "id": "d1893168",
   "metadata": {},
   "outputs": [
    {
     "data": {
      "text/plain": [
       "2"
      ]
     },
     "execution_count": 49,
     "metadata": {},
     "output_type": "execute_result"
    }
   ],
   "source": [
    "file.ndim"
   ]
  },
  {
   "cell_type": "code",
   "execution_count": 50,
   "id": "b161a92b",
   "metadata": {},
   "outputs": [
    {
     "data": {
      "text/plain": [
       "Index(['N', 'P', 'K', 'temperature', 'humidity', 'ph', 'rainfall', 'label',\n",
       "       'land_type'],\n",
       "      dtype='object')"
      ]
     },
     "execution_count": 50,
     "metadata": {},
     "output_type": "execute_result"
    }
   ],
   "source": [
    "file.columns"
   ]
  },
  {
   "cell_type": "code",
   "execution_count": 51,
   "id": "6f9ac119",
   "metadata": {},
   "outputs": [],
   "source": [
    "file = file.rename(columns={'label': 'crop'})"
   ]
  },
  {
   "cell_type": "code",
   "execution_count": 52,
   "id": "bdf8ceae",
   "metadata": {},
   "outputs": [
    {
     "data": {
      "text/plain": [
       "Index(['N', 'P', 'K', 'temperature', 'humidity', 'ph', 'rainfall', 'crop',\n",
       "       'land_type'],\n",
       "      dtype='object')"
      ]
     },
     "execution_count": 52,
     "metadata": {},
     "output_type": "execute_result"
    }
   ],
   "source": [
    "file.columns"
   ]
  },
  {
   "cell_type": "code",
   "execution_count": 53,
   "id": "7c25e493",
   "metadata": {},
   "outputs": [
    {
     "data": {
      "text/plain": [
       "crop\n",
       "papaya         200\n",
       "watermelon     200\n",
       "mungbean       200\n",
       "pomegranate    200\n",
       "maize          200\n",
       "pigeonpeas     200\n",
       "mango          200\n",
       "chickpea       200\n",
       "jute           200\n",
       "orange         200\n",
       "grapes         200\n",
       "coffee         200\n",
       "cotton         200\n",
       "lentil         200\n",
       "muskmelon      200\n",
       "kidneybeans    200\n",
       "mothbeans      200\n",
       "apple          200\n",
       "coconut        200\n",
       "banana         200\n",
       "blackgram      200\n",
       "rice           127\n",
       "Name: count, dtype: int64"
      ]
     },
     "execution_count": 53,
     "metadata": {},
     "output_type": "execute_result"
    }
   ],
   "source": [
    "file['crop'].value_counts()"
   ]
  },
  {
   "cell_type": "markdown",
   "id": "d126a2b8",
   "metadata": {},
   "source": [
    "# Data Cleaning "
   ]
  },
  {
   "cell_type": "code",
   "execution_count": 54,
   "id": "6696a905",
   "metadata": {
    "scrolled": true
   },
   "outputs": [
    {
     "data": {
      "text/plain": [
       "N              1\n",
       "P              0\n",
       "K              0\n",
       "temperature    0\n",
       "humidity       0\n",
       "ph             0\n",
       "rainfall       0\n",
       "crop           0\n",
       "land_type      0\n",
       "dtype: int64"
      ]
     },
     "execution_count": 54,
     "metadata": {},
     "output_type": "execute_result"
    }
   ],
   "source": [
    "file.isnull().sum()"
   ]
  },
  {
   "cell_type": "code",
   "execution_count": 55,
   "id": "05235f3d",
   "metadata": {},
   "outputs": [],
   "source": [
    "file.dropna(subset=['N'],inplace=True)"
   ]
  },
  {
   "cell_type": "code",
   "execution_count": 56,
   "id": "b1a5028a",
   "metadata": {},
   "outputs": [
    {
     "data": {
      "text/plain": [
       "N              0\n",
       "P              0\n",
       "K              0\n",
       "temperature    0\n",
       "humidity       0\n",
       "ph             0\n",
       "rainfall       0\n",
       "crop           0\n",
       "land_type      0\n",
       "dtype: int64"
      ]
     },
     "execution_count": 56,
     "metadata": {},
     "output_type": "execute_result"
    }
   ],
   "source": [
    "file.isnull().sum()"
   ]
  },
  {
   "cell_type": "code",
   "execution_count": 57,
   "id": "ea5aec4b",
   "metadata": {},
   "outputs": [
    {
     "data": {
      "text/plain": [
       "0"
      ]
     },
     "execution_count": 57,
     "metadata": {},
     "output_type": "execute_result"
    }
   ],
   "source": [
    "file.duplicated().sum()"
   ]
  },
  {
   "cell_type": "markdown",
   "id": "245dffcc",
   "metadata": {},
   "source": [
    "# Data Visualization and Data Insight "
   ]
  },
  {
   "cell_type": "code",
   "execution_count": 58,
   "id": "036baaab",
   "metadata": {},
   "outputs": [],
   "source": [
    "# cor=file.corr()\n",
    "# sns.heatmap(cor,annot=True,cbar=True, cmap='coolwarm')"
   ]
  },
  {
   "cell_type": "code",
   "execution_count": 59,
   "id": "053f882b",
   "metadata": {},
   "outputs": [],
   "source": [
    "crop_dict = {\n",
    "    'rice': 1,\n",
    "    'maize': 2,\n",
    "    'jute': 3,\n",
    "    'cotton': 4,\n",
    "    'coconut': 5,\n",
    "    'papaya': 6,\n",
    "    'orange': 7,\n",
    "    'apple': 8,\n",
    "    'muskmelon': 9,\n",
    "    'watermelon': 10,\n",
    "    'grapes': 11,\n",
    "    'mango': 12,\n",
    "    'banana': 13,\n",
    "    'pomegranate': 14,\n",
    "    'lentil': 15,\n",
    "    'blackgram': 16,\n",
    "    'mungbean': 17,\n",
    "    'mothbeans': 18,\n",
    "    'pigeonpeas': 19,\n",
    "    'kidneybeans': 20,\n",
    "    'chickpea': 21,\n",
    "    'coffee': 22\n",
    "}\n",
    "file['crop_num']=file['crop'].map(crop_dict)"
   ]
  },
  {
   "cell_type": "code",
   "execution_count": 68,
   "id": "c849fcc7",
   "metadata": {},
   "outputs": [
    {
     "data": {
      "text/plain": [
       "land_type\n",
       "Hilly    2200\n",
       "plain    2126\n",
       "Name: count, dtype: int64"
      ]
     },
     "execution_count": 68,
     "metadata": {},
     "output_type": "execute_result"
    }
   ],
   "source": [
    "file['land_type'].value_counts()"
   ]
  },
  {
   "cell_type": "code",
   "execution_count": 70,
   "id": "96808aa5",
   "metadata": {},
   "outputs": [],
   "source": [
    "file['land_type_num']=file['land_type'].map({\"Hilly\":0,\"plain\":1}) "
   ]
  },
  {
   "cell_type": "code",
   "execution_count": 69,
   "id": "a4222b88",
   "metadata": {},
   "outputs": [
    {
     "data": {
      "text/plain": [
       "crop_num\n",
       "6     200\n",
       "10    200\n",
       "17    200\n",
       "2     200\n",
       "19    200\n",
       "12    200\n",
       "21    200\n",
       "3     200\n",
       "7     200\n",
       "11    200\n",
       "22    200\n",
       "4     200\n",
       "15    200\n",
       "9     200\n",
       "20    200\n",
       "18    200\n",
       "8     200\n",
       "5     200\n",
       "13    200\n",
       "16    200\n",
       "14    199\n",
       "1     127\n",
       "Name: count, dtype: int64"
      ]
     },
     "execution_count": 69,
     "metadata": {},
     "output_type": "execute_result"
    }
   ],
   "source": [
    "file['crop_num'].value_counts()"
   ]
  },
  {
   "cell_type": "code",
   "execution_count": 71,
   "id": "f3b79907",
   "metadata": {},
   "outputs": [
    {
     "data": {
      "text/html": [
       "<div>\n",
       "<style scoped>\n",
       "    .dataframe tbody tr th:only-of-type {\n",
       "        vertical-align: middle;\n",
       "    }\n",
       "\n",
       "    .dataframe tbody tr th {\n",
       "        vertical-align: top;\n",
       "    }\n",
       "\n",
       "    .dataframe thead th {\n",
       "        text-align: right;\n",
       "    }\n",
       "</style>\n",
       "<table border=\"1\" class=\"dataframe\">\n",
       "  <thead>\n",
       "    <tr style=\"text-align: right;\">\n",
       "      <th></th>\n",
       "      <th>N</th>\n",
       "      <th>P</th>\n",
       "      <th>K</th>\n",
       "      <th>temperature</th>\n",
       "      <th>humidity</th>\n",
       "      <th>ph</th>\n",
       "      <th>rainfall</th>\n",
       "      <th>crop</th>\n",
       "      <th>land_type</th>\n",
       "      <th>crop_num</th>\n",
       "      <th>land_type_num</th>\n",
       "    </tr>\n",
       "  </thead>\n",
       "  <tbody>\n",
       "    <tr>\n",
       "      <th>0</th>\n",
       "      <td>40.0</td>\n",
       "      <td>49</td>\n",
       "      <td>47</td>\n",
       "      <td>42.933686</td>\n",
       "      <td>91.175675</td>\n",
       "      <td>6.501521</td>\n",
       "      <td>246.361327</td>\n",
       "      <td>papaya</td>\n",
       "      <td>Hilly</td>\n",
       "      <td>6</td>\n",
       "      <td>0</td>\n",
       "    </tr>\n",
       "    <tr>\n",
       "      <th>1</th>\n",
       "      <td>86.0</td>\n",
       "      <td>6</td>\n",
       "      <td>53</td>\n",
       "      <td>25.920302</td>\n",
       "      <td>83.472026</td>\n",
       "      <td>6.921848</td>\n",
       "      <td>42.106815</td>\n",
       "      <td>watermelon</td>\n",
       "      <td>Hilly</td>\n",
       "      <td>10</td>\n",
       "      <td>0</td>\n",
       "    </tr>\n",
       "    <tr>\n",
       "      <th>2</th>\n",
       "      <td>20.0</td>\n",
       "      <td>68</td>\n",
       "      <td>23</td>\n",
       "      <td>25.549606</td>\n",
       "      <td>63.954255</td>\n",
       "      <td>7.707332</td>\n",
       "      <td>63.183053</td>\n",
       "      <td>blackgram</td>\n",
       "      <td>plain</td>\n",
       "      <td>16</td>\n",
       "      <td>1</td>\n",
       "    </tr>\n",
       "    <tr>\n",
       "      <th>3</th>\n",
       "      <td>69.0</td>\n",
       "      <td>67</td>\n",
       "      <td>52</td>\n",
       "      <td>27.719490</td>\n",
       "      <td>94.438771</td>\n",
       "      <td>6.827306</td>\n",
       "      <td>82.830611</td>\n",
       "      <td>papaya</td>\n",
       "      <td>Hilly</td>\n",
       "      <td>6</td>\n",
       "      <td>0</td>\n",
       "    </tr>\n",
       "    <tr>\n",
       "      <th>4</th>\n",
       "      <td>93.0</td>\n",
       "      <td>83</td>\n",
       "      <td>46</td>\n",
       "      <td>29.382540</td>\n",
       "      <td>83.504237</td>\n",
       "      <td>5.765309</td>\n",
       "      <td>109.248665</td>\n",
       "      <td>banana</td>\n",
       "      <td>Hilly</td>\n",
       "      <td>13</td>\n",
       "      <td>0</td>\n",
       "    </tr>\n",
       "  </tbody>\n",
       "</table>\n",
       "</div>"
      ],
      "text/plain": [
       "      N   P   K  temperature   humidity        ph    rainfall        crop  \\\n",
       "0  40.0  49  47    42.933686  91.175675  6.501521  246.361327      papaya   \n",
       "1  86.0   6  53    25.920302  83.472026  6.921848   42.106815  watermelon   \n",
       "2  20.0  68  23    25.549606  63.954255  7.707332   63.183053   blackgram   \n",
       "3  69.0  67  52    27.719490  94.438771  6.827306   82.830611      papaya   \n",
       "4  93.0  83  46    29.382540  83.504237  5.765309  109.248665      banana   \n",
       "\n",
       "  land_type  crop_num  land_type_num  \n",
       "0     Hilly         6              0  \n",
       "1     Hilly        10              0  \n",
       "2     plain        16              1  \n",
       "3     Hilly         6              0  \n",
       "4     Hilly        13              0  "
      ]
     },
     "execution_count": 71,
     "metadata": {},
     "output_type": "execute_result"
    }
   ],
   "source": [
    "file.head()"
   ]
  },
  {
   "cell_type": "markdown",
   "id": "9fd48470",
   "metadata": {},
   "source": [
    "# Model Building "
   ]
  },
  {
   "cell_type": "code",
   "execution_count": 72,
   "id": "acee1078",
   "metadata": {},
   "outputs": [],
   "source": [
    "x=file.drop(columns=['crop','crop_num','land_type'],axis=1)\n",
    "y=file['crop_num']"
   ]
  },
  {
   "cell_type": "code",
   "execution_count": 73,
   "id": "466f77b2",
   "metadata": {},
   "outputs": [
    {
     "data": {
      "text/html": [
       "<div>\n",
       "<style scoped>\n",
       "    .dataframe tbody tr th:only-of-type {\n",
       "        vertical-align: middle;\n",
       "    }\n",
       "\n",
       "    .dataframe tbody tr th {\n",
       "        vertical-align: top;\n",
       "    }\n",
       "\n",
       "    .dataframe thead th {\n",
       "        text-align: right;\n",
       "    }\n",
       "</style>\n",
       "<table border=\"1\" class=\"dataframe\">\n",
       "  <thead>\n",
       "    <tr style=\"text-align: right;\">\n",
       "      <th></th>\n",
       "      <th>N</th>\n",
       "      <th>P</th>\n",
       "      <th>K</th>\n",
       "      <th>temperature</th>\n",
       "      <th>humidity</th>\n",
       "      <th>ph</th>\n",
       "      <th>rainfall</th>\n",
       "      <th>land_type_num</th>\n",
       "    </tr>\n",
       "  </thead>\n",
       "  <tbody>\n",
       "    <tr>\n",
       "      <th>0</th>\n",
       "      <td>40.0</td>\n",
       "      <td>49</td>\n",
       "      <td>47</td>\n",
       "      <td>42.933686</td>\n",
       "      <td>91.175675</td>\n",
       "      <td>6.501521</td>\n",
       "      <td>246.361327</td>\n",
       "      <td>0</td>\n",
       "    </tr>\n",
       "    <tr>\n",
       "      <th>1</th>\n",
       "      <td>86.0</td>\n",
       "      <td>6</td>\n",
       "      <td>53</td>\n",
       "      <td>25.920302</td>\n",
       "      <td>83.472026</td>\n",
       "      <td>6.921848</td>\n",
       "      <td>42.106815</td>\n",
       "      <td>0</td>\n",
       "    </tr>\n",
       "    <tr>\n",
       "      <th>2</th>\n",
       "      <td>20.0</td>\n",
       "      <td>68</td>\n",
       "      <td>23</td>\n",
       "      <td>25.549606</td>\n",
       "      <td>63.954255</td>\n",
       "      <td>7.707332</td>\n",
       "      <td>63.183053</td>\n",
       "      <td>1</td>\n",
       "    </tr>\n",
       "    <tr>\n",
       "      <th>3</th>\n",
       "      <td>69.0</td>\n",
       "      <td>67</td>\n",
       "      <td>52</td>\n",
       "      <td>27.719490</td>\n",
       "      <td>94.438771</td>\n",
       "      <td>6.827306</td>\n",
       "      <td>82.830611</td>\n",
       "      <td>0</td>\n",
       "    </tr>\n",
       "    <tr>\n",
       "      <th>4</th>\n",
       "      <td>93.0</td>\n",
       "      <td>83</td>\n",
       "      <td>46</td>\n",
       "      <td>29.382540</td>\n",
       "      <td>83.504237</td>\n",
       "      <td>5.765309</td>\n",
       "      <td>109.248665</td>\n",
       "      <td>0</td>\n",
       "    </tr>\n",
       "  </tbody>\n",
       "</table>\n",
       "</div>"
      ],
      "text/plain": [
       "      N   P   K  temperature   humidity        ph    rainfall  land_type_num\n",
       "0  40.0  49  47    42.933686  91.175675  6.501521  246.361327              0\n",
       "1  86.0   6  53    25.920302  83.472026  6.921848   42.106815              0\n",
       "2  20.0  68  23    25.549606  63.954255  7.707332   63.183053              1\n",
       "3  69.0  67  52    27.719490  94.438771  6.827306   82.830611              0\n",
       "4  93.0  83  46    29.382540  83.504237  5.765309  109.248665              0"
      ]
     },
     "execution_count": 73,
     "metadata": {},
     "output_type": "execute_result"
    }
   ],
   "source": [
    "x.head()"
   ]
  },
  {
   "cell_type": "code",
   "execution_count": 75,
   "id": "dabbfc79",
   "metadata": {},
   "outputs": [
    {
     "data": {
      "text/plain": [
       "0     6\n",
       "1    10\n",
       "2    16\n",
       "3     6\n",
       "4    13\n",
       "Name: crop_num, dtype: int64"
      ]
     },
     "execution_count": 75,
     "metadata": {},
     "output_type": "execute_result"
    }
   ],
   "source": [
    "y.head()"
   ]
  },
  {
   "cell_type": "code",
   "execution_count": 101,
   "id": "677aabbf",
   "metadata": {},
   "outputs": [],
   "source": [
    "from sklearn.model_selection import train_test_split\n",
    "x_train,x_test,y_train,y_test=train_test_split(x,y,test_size=0.2,random_state=69)"
   ]
  },
  {
   "cell_type": "code",
   "execution_count": 77,
   "id": "77427c71",
   "metadata": {},
   "outputs": [
    {
     "name": "stdout",
     "output_type": "stream",
     "text": [
      "(4326, 11)\n",
      "(3460, 8)\n",
      "(3460,)\n",
      "(866, 8)\n",
      "(866,)\n"
     ]
    }
   ],
   "source": [
    "print(file.shape)\n",
    "print(x_train.shape)\n",
    "print(y_train.shape)\n",
    "print(x_test.shape)\n",
    "print(y_test.shape)"
   ]
  },
  {
   "cell_type": "code",
   "execution_count": 78,
   "id": "8c7bcea2",
   "metadata": {},
   "outputs": [],
   "source": [
    "from sklearn.preprocessing import MinMaxScaler\n",
    "ms = MinMaxScaler()\n",
    "\n",
    "x_train = ms.fit_transform(x_train)\n",
    "x_test = ms.transform(x_test)"
   ]
  },
  {
   "cell_type": "code",
   "execution_count": 79,
   "id": "62fc5127",
   "metadata": {},
   "outputs": [
    {
     "data": {
      "text/plain": [
       "array([[0.00714286, 0.17857143, 0.025     , ..., 0.5888731 , 0.29950143,\n",
       "        1.        ],\n",
       "       [0.42142857, 0.40714286, 0.39      , ..., 0.71530353, 0.18946777,\n",
       "        0.        ],\n",
       "       [0.1       , 0.09285714, 0.125     , ..., 0.26227435, 0.27136736,\n",
       "        0.        ],\n",
       "       ...,\n",
       "       [0.63571429, 0.25      , 0.19      , ..., 0.56284718, 0.60988163,\n",
       "        1.        ],\n",
       "       [0.28571429, 0.46428571, 0.075     , ..., 0.32949086, 0.45563284,\n",
       "        1.        ],\n",
       "       [0.62142857, 0.16428571, 0.125     , ..., 0.47150308, 0.53395979,\n",
       "        1.        ]])"
      ]
     },
     "execution_count": 79,
     "metadata": {},
     "output_type": "execute_result"
    }
   ],
   "source": [
    "x_train"
   ]
  },
  {
   "cell_type": "code",
   "execution_count": 81,
   "id": "d9620e40",
   "metadata": {},
   "outputs": [],
   "source": [
    "from sklearn.preprocessing import StandardScaler\n",
    "sc = StandardScaler()\n",
    "\n",
    "\n",
    "sc.fit(x_train)\n",
    "x_train = sc.transform(x_train)\n",
    "x_test = sc.transform(x_test)"
   ]
  },
  {
   "cell_type": "code",
   "execution_count": 86,
   "id": "14e82d15",
   "metadata": {},
   "outputs": [
    {
     "data": {
      "text/plain": [
       "array([[-1.33516119, -0.69636704, -0.74863985, ...,  1.07762977,\n",
       "         0.05476724,  1.01279866],\n",
       "       [ 0.2285032 ,  0.27421112,  0.70148134, ...,  2.13986509,\n",
       "        -0.52962673, -0.98736308],\n",
       "       [-0.98468469, -1.06033385, -0.35134637, ..., -1.66636743,\n",
       "        -0.09465413, -0.98736308],\n",
       "       ...,\n",
       "       [ 1.03729512, -0.39306136, -0.09310561, ...,  0.85896677,\n",
       "         1.70321117,  1.01279866],\n",
       "       [-0.28373169,  0.51685566, -0.54999311, ..., -1.10163189,\n",
       "         0.88398853,  1.01279866],\n",
       "       [ 0.98337566, -0.75702817, -0.35134637, ...,  0.09151756,\n",
       "         1.29998667,  1.01279866]])"
      ]
     },
     "execution_count": 86,
     "metadata": {},
     "output_type": "execute_result"
    }
   ],
   "source": [
    "x_train"
   ]
  },
  {
   "cell_type": "code",
   "execution_count": 114,
   "id": "10c64e27",
   "metadata": {},
   "outputs": [
    {
     "name": "stderr",
     "output_type": "stream",
     "text": [
      "C:\\Users\\CCC\\anaconda3\\Lib\\site-packages\\sklearn\\linear_model\\_logistic.py:460: ConvergenceWarning: lbfgs failed to converge (status=1):\n",
      "STOP: TOTAL NO. of ITERATIONS REACHED LIMIT.\n",
      "\n",
      "Increase the number of iterations (max_iter) or scale the data as shown in:\n",
      "    https://scikit-learn.org/stable/modules/preprocessing.html\n",
      "Please also refer to the documentation for alternative solver options:\n",
      "    https://scikit-learn.org/stable/modules/linear_model.html#logistic-regression\n",
      "  n_iter_i = _check_optimize_result(\n"
     ]
    },
    {
     "name": "stdout",
     "output_type": "stream",
     "text": [
      "Logistic Regression  with accuracy : 96.39999999999999 %  \n",
      "Naive Bayes  with accuracy : 99.3 %  \n",
      "Support Vector Machine  with accuracy : 98.0 %  \n",
      "K-Nearest Neighbors  with accuracy : 98.6 %  \n",
      "Decision Tree  with accuracy : 99.7 %  \n",
      "Random Forest  with accuracy : 99.5 %  \n",
      "Bagging  with accuracy : 99.5 %  \n",
      "AdaBoost  with accuracy : 12.0 %  \n",
      "Gradient Boosting  with accuracy : 99.8 %  \n",
      "Extra Trees  with accuracy : 97.2 %  \n"
     ]
    }
   ],
   "source": [
    "from sklearn.linear_model import LogisticRegression\n",
    "from sklearn.naive_bayes import GaussianNB\n",
    "from sklearn.svm import SVC\n",
    "from sklearn.neighbors import KNeighborsClassifier\n",
    "from sklearn.tree import DecisionTreeClassifier\n",
    "from sklearn.tree import ExtraTreeClassifier\n",
    "from sklearn.ensemble import RandomForestClassifier\n",
    "from sklearn.ensemble import BaggingClassifier\n",
    "from sklearn.ensemble import GradientBoostingClassifier\n",
    "from sklearn.ensemble import AdaBoostClassifier\n",
    "from sklearn.metrics import accuracy_score\n",
    "\n",
    "# create instances of all models\n",
    "models = {\n",
    "    'Logistic Regression': LogisticRegression(),\n",
    "    'Naive Bayes': GaussianNB(),\n",
    "    'Support Vector Machine': SVC(),\n",
    "    'K-Nearest Neighbors': KNeighborsClassifier(),\n",
    "    'Decision Tree': DecisionTreeClassifier(),\n",
    "    'Random Forest': RandomForestClassifier(),\n",
    "    'Bagging': BaggingClassifier(),\n",
    "    'AdaBoost': AdaBoostClassifier(),\n",
    "    'Gradient Boosting': GradientBoostingClassifier(),\n",
    "    'Extra Trees': ExtraTreeClassifier(),\n",
    "}\n",
    "\n",
    "\n",
    "for name, md in models.items():\n",
    "    md.fit(x_train,y_train)\n",
    "    ypred = md.predict(x_test)\n",
    "    \n",
    "    print(f\"{name}  with accuracy : {(accuracy_score(y_test,ypred).round(3))*100} %  \")"
   ]
  },
  {
   "cell_type": "code",
   "execution_count": 118,
   "id": "e7e8fa95",
   "metadata": {},
   "outputs": [
    {
     "name": "stdout",
     "output_type": "stream",
     "text": [
      "0.9953810623556582\n"
     ]
    }
   ],
   "source": [
    "rfc = RandomForestClassifier()\n",
    "rfc.fit(x_train,y_train)\n",
    "ypred = rfc.predict(x_test)\n",
    "print(accuracy_score(y_test,ypred))\n",
    "def recommendation(N,P,k,temperature,humidity,ph,rainfal,land_type):\n",
    "    features = np.array([[N,P,k,temperature,humidity,ph,rainfal,land_type]])\n",
    "    transformed_features = ms.fit_transform(features)\n",
    "    transformed_features = sc.fit_transform(transformed_features)\n",
    "    prediction = rfc.predict(transformed_features).reshape(1,-1)\n",
    "    \n",
    "    return prediction[0] "
   ]
  },
  {
   "cell_type": "code",
   "execution_count": 122,
   "id": "edd43fb7",
   "metadata": {},
   "outputs": [
    {
     "name": "stdout",
     "output_type": "stream",
     "text": [
      "Kidneybeans is a best crop to be cultivated \n"
     ]
    },
    {
     "name": "stderr",
     "output_type": "stream",
     "text": [
      "C:\\Users\\CCC\\anaconda3\\Lib\\site-packages\\sklearn\\base.py:464: UserWarning: X does not have valid feature names, but RandomForestClassifier was fitted with feature names\n",
      "  warnings.warn(\n"
     ]
    }
   ],
   "source": [
    "N = 40\n",
    "P = 50\n",
    "k = 50\n",
    "temperature = 40.0\n",
    "humidity = 20\n",
    "ph = 100\n",
    "rainfall = 100\n",
    "land_type = 0\n",
    "predict = recommendation(N,P,k,temperature,humidity,ph,rainfall,land_type)\n",
    "# print(predict)\n",
    "\n",
    "crop_dict = {1: \"Rice\", 2: \"Maize\", 3: \"Jute\", 4: \"Cotton\", 5: \"Coconut\", 6: \"Papaya\", 7: \"Orange\",\n",
    "                 8: \"Apple\", 9: \"Muskmelon\", 10: \"Watermelon\", 11: \"Grapes\", 12: \"Mango\", 13: \"Banana\",\n",
    "                 14: \"Pomegranate\", 15: \"Lentil\", 16: \"Blackgram\", 17: \"Mungbean\", 18: \"Mothbeans\",\n",
    "                 19: \"Pigeonpeas\", 20: \"Kidneybeans\", 21: \"Chickpea\", 22: \"Coffee\"}\n",
    "\n",
    "fertilizer_dict =  {1: [\"10-14-14\",\"\"], 2: \"Maize\", 3: \"Jute\", 4: \"Cotton\", 5: \"Coconut\", 6: \"Papaya\", 7: \"Orange\",\n",
    "                 8: \"Apple\", 9: \"Muskmelon\", 10: \"Watermelon\", 11: \"Grapes\", 12: \"Mango\", 13: \"Banana\",\n",
    "                 14: \"Pomegranate\", 15: \"Lentil\", 16: \"Blackgram\", 17: \"Mungbean\", 18: \"Mothbeans\",\n",
    "                 19: \"Pigeonpeas\", 20: \"Kidneybeans\", 21: \"Chickpea\", 22: \"Coffee\"}\n",
    "\n",
    "if predict[0] in crop_dict:\n",
    "    crop = crop_dict[predict[0]]\n",
    "    print(\"{} is a best crop to be cultivated \".format(crop))\n",
    "else:\n",
    "    print(\"Sorry are not able to recommend a proper crop for this environment\")\n"
   ]
  },
  {
   "cell_type": "code",
   "execution_count": 124,
   "id": "c8b6be0f",
   "metadata": {},
   "outputs": [
    {
     "ename": "AttributeError",
     "evalue": "'str' object has no attribute 'summary'",
     "output_type": "error",
     "traceback": [
      "\u001b[1;31m---------------------------------------------------------------------------\u001b[0m",
      "\u001b[1;31mAttributeError\u001b[0m                            Traceback (most recent call last)",
      "Cell \u001b[1;32mIn[124], line 6\u001b[0m\n\u001b[0;32m      3\u001b[0m \u001b[38;5;66;03m# print(res)\u001b[39;00m\n\u001b[0;32m      4\u001b[0m res\u001b[38;5;241m=\u001b[39mres\u001b[38;5;241m.\u001b[39mcontent\n\u001b[1;32m----> 6\u001b[0m \u001b[38;5;28mprint\u001b[39m(res\u001b[38;5;241m.\u001b[39msummary(sentence\u001b[38;5;241m=\u001b[39m\u001b[38;5;241m5\u001b[39m))\n",
      "\u001b[1;31mAttributeError\u001b[0m: 'str' object has no attribute 'summary'"
     ]
    }
   ],
   "source": [
    "import wikipedia\n",
    "res=wikipedia.page(\"10-14-14 fertilizer\")\n",
    "# print(res)\n",
    "res=res.content\n",
    "\n",
    "print(res.summary(sentence=5))"
   ]
  },
  {
   "cell_type": "code",
   "execution_count": 128,
   "id": "61a7b793",
   "metadata": {},
   "outputs": [
    {
     "data": {
      "text/plain": [
       "'A fertilizer (American English) or fertiliser (British English) is any material of natural or synthetic origin that is applied to soil or to plant tissues to supply plant nutrients. Fertilizers may be distinct from liming materials or other non-nutrient soil amendments. Many sources of fertilizer exist, both natural and industrially produced. For most modern agricultural practices, fertilization focuses on three main macro nutrients: nitrogen (N), phosphorus (P), and potassium (K) with occasional addition of supplements like rock flour for micronutrients. Farmers apply these fertilizers in a variety of ways: through dry or pelletized or liquid application processes, using large agricultural equipment or hand-tool methods.'"
      ]
     },
     "execution_count": 128,
     "metadata": {},
     "output_type": "execute_result"
    }
   ],
   "source": [
    "resSummary=wikipedia.summary(\"10-14-14 fertilizer\",sentences=5)\n",
    "resSummary"
   ]
  },
  {
   "cell_type": "code",
   "execution_count": 130,
   "id": "a1dd26d8",
   "metadata": {},
   "outputs": [
    {
     "name": "stderr",
     "output_type": "stream",
     "text": [
      "ERROR: Could not find a version that satisfies the requirement googlesearch (from versions: none)\n",
      "ERROR: No matching distribution found for googlesearch\n"
     ]
    }
   ],
   "source": [
    "!pip install googlesearch"
   ]
  },
  {
   "cell_type": "code",
   "execution_count": 129,
   "id": "9b51087c",
   "metadata": {},
   "outputs": [
    {
     "ename": "ModuleNotFoundError",
     "evalue": "No module named 'googlesearch'",
     "output_type": "error",
     "traceback": [
      "\u001b[1;31m---------------------------------------------------------------------------\u001b[0m",
      "\u001b[1;31mModuleNotFoundError\u001b[0m                       Traceback (most recent call last)",
      "Cell \u001b[1;32mIn[129], line 1\u001b[0m\n\u001b[1;32m----> 1\u001b[0m \u001b[38;5;28;01mfrom\u001b[39;00m \u001b[38;5;21;01mgooglesearch\u001b[39;00m \u001b[38;5;28;01mimport\u001b[39;00m search\n\u001b[0;32m      3\u001b[0m \u001b[38;5;28;01mdef\u001b[39;00m \u001b[38;5;21mget_google_results\u001b[39m(keyword, num_results\u001b[38;5;241m=\u001b[39m\u001b[38;5;241m5\u001b[39m):\n\u001b[0;32m      4\u001b[0m     \u001b[38;5;28;01mtry\u001b[39;00m:\n",
      "\u001b[1;31mModuleNotFoundError\u001b[0m: No module named 'googlesearch'"
     ]
    }
   ],
   "source": [
    "from googlesearch import search\n",
    "\n",
    "def get_google_results(keyword, num_results=5):\n",
    "    try:\n",
    "        search_results = search(keyword, num_results=num_results, stop=num_results)\n",
    "        return search_results\n",
    "    except Exception as e:\n",
    "        print(f\"An error occurred: {e}\")\n",
    "        return []\n",
    "\n",
    "def main():\n",
    "    keyword = input(\"Enter the keyword to search on Google: \")\n",
    "    num_results = int(input(\"Enter the number of results to retrieve: \"))\n",
    "\n",
    "    results = get_google_results(keyword, num_results)\n",
    "\n",
    "    if results:\n",
    "        print(\"\\nGoogle Search Results:\")\n",
    "        for i, result in enumerate(results, start=1):\n",
    "            print(f\"{i}. {result}\")\n",
    "    else:\n",
    "        print(\"No results found.\")\n",
    "\n",
    "if __name__ == \"__main__\":\n",
    "    main()\n"
   ]
  },
  {
   "cell_type": "code",
   "execution_count": 2,
   "id": "df8a2397",
   "metadata": {},
   "outputs": [
    {
     "name": "stderr",
     "output_type": "stream",
     "text": [
      "C:\\Users\\CCC\\anaconda3\\Lib\\site-packages\\sklearn\\base.py:347: InconsistentVersionWarning: Trying to unpickle estimator DecisionTreeClassifier from version 1.2.2 when using version 1.3.0. This might lead to breaking code or invalid results. Use at your own risk. For more info please refer to:\n",
      "https://scikit-learn.org/stable/model_persistence.html#security-maintainability-limitations\n",
      "  warnings.warn(\n"
     ]
    },
    {
     "ename": "ValueError",
     "evalue": "node array from the pickle has an incompatible dtype:\n- expected: {'names': ['left_child', 'right_child', 'feature', 'threshold', 'impurity', 'n_node_samples', 'weighted_n_node_samples', 'missing_go_to_left'], 'formats': ['<i8', '<i8', '<i8', '<f8', '<f8', '<i8', '<f8', 'u1'], 'offsets': [0, 8, 16, 24, 32, 40, 48, 56], 'itemsize': 64}\n- got     : [('left_child', '<i8'), ('right_child', '<i8'), ('feature', '<i8'), ('threshold', '<f8'), ('impurity', '<f8'), ('n_node_samples', '<i8'), ('weighted_n_node_samples', '<f8')]",
     "output_type": "error",
     "traceback": [
      "\u001b[1;31m---------------------------------------------------------------------------\u001b[0m",
      "\u001b[1;31mValueError\u001b[0m                                Traceback (most recent call last)",
      "Cell \u001b[1;32mIn[2], line 8\u001b[0m\n\u001b[0;32m      5\u001b[0m \u001b[38;5;28;01mimport\u001b[39;00m \u001b[38;5;21;01mpickle\u001b[39;00m\n\u001b[0;32m      7\u001b[0m \u001b[38;5;66;03m# importing model\u001b[39;00m\n\u001b[1;32m----> 8\u001b[0m model \u001b[38;5;241m=\u001b[39m pickle\u001b[38;5;241m.\u001b[39mload(\u001b[38;5;28mopen\u001b[39m(\u001b[38;5;124mr\u001b[39m\u001b[38;5;124m'\u001b[39m\u001b[38;5;124mC:\u001b[39m\u001b[38;5;124m\\\u001b[39m\u001b[38;5;124mUsers\u001b[39m\u001b[38;5;124m\\\u001b[39m\u001b[38;5;124mCCC\u001b[39m\u001b[38;5;124m\\\u001b[39m\u001b[38;5;124mDownloads\u001b[39m\u001b[38;5;124m\\\u001b[39m\u001b[38;5;124mproject\u001b[39m\u001b[38;5;124m\\\u001b[39m\u001b[38;5;124mmodel.pkl\u001b[39m\u001b[38;5;124m'\u001b[39m,\u001b[38;5;124m'\u001b[39m\u001b[38;5;124mrb\u001b[39m\u001b[38;5;124m'\u001b[39m))\n\u001b[0;32m      9\u001b[0m sc \u001b[38;5;241m=\u001b[39m pickle\u001b[38;5;241m.\u001b[39mload(\u001b[38;5;28mopen\u001b[39m(\u001b[38;5;124m'\u001b[39m\u001b[38;5;124mstandscaler.pkl\u001b[39m\u001b[38;5;124m'\u001b[39m,\u001b[38;5;124m'\u001b[39m\u001b[38;5;124mrb\u001b[39m\u001b[38;5;124m'\u001b[39m))\n\u001b[0;32m     10\u001b[0m ms \u001b[38;5;241m=\u001b[39m pickle\u001b[38;5;241m.\u001b[39mload(\u001b[38;5;28mopen\u001b[39m(\u001b[38;5;124m'\u001b[39m\u001b[38;5;124mminmaxscaler.pkl\u001b[39m\u001b[38;5;124m'\u001b[39m,\u001b[38;5;124m'\u001b[39m\u001b[38;5;124mrb\u001b[39m\u001b[38;5;124m'\u001b[39m))\n",
      "File \u001b[1;32msklearn\\tree\\_tree.pyx:714\u001b[0m, in \u001b[0;36msklearn.tree._tree.Tree.__setstate__\u001b[1;34m()\u001b[0m\n",
      "File \u001b[1;32msklearn\\tree\\_tree.pyx:1418\u001b[0m, in \u001b[0;36msklearn.tree._tree._check_node_ndarray\u001b[1;34m()\u001b[0m\n",
      "\u001b[1;31mValueError\u001b[0m: node array from the pickle has an incompatible dtype:\n- expected: {'names': ['left_child', 'right_child', 'feature', 'threshold', 'impurity', 'n_node_samples', 'weighted_n_node_samples', 'missing_go_to_left'], 'formats': ['<i8', '<i8', '<i8', '<f8', '<f8', '<i8', '<f8', 'u1'], 'offsets': [0, 8, 16, 24, 32, 40, 48, 56], 'itemsize': 64}\n- got     : [('left_child', '<i8'), ('right_child', '<i8'), ('feature', '<i8'), ('threshold', '<f8'), ('impurity', '<f8'), ('n_node_samples', '<i8'), ('weighted_n_node_samples', '<f8')]"
     ]
    }
   ],
   "source": [
    "from flask import Flask,request,render_template\n",
    "import numpy as np\n",
    "import pandas\n",
    "import sklearn\n",
    "import pickle\n",
    "\n",
    "# importing model\n",
    "model = pickle.load(open(r'C:\\Users\\CCC\\Downloads\\project\\model.pkl','rb'))\n",
    "sc = pickle.load(open('standscaler.pkl','rb'))\n",
    "ms = pickle.load(open('minmaxscaler.pkl','rb'))\n",
    "\n",
    "# creating flask app\n",
    "app = Flask(__name__)\n",
    "\n",
    "@app.route('/')\n",
    "def index():\n",
    "    return render_template(\"index.html\")\n",
    "\n",
    "@app.route(\"/predict\",methods=['POST'])\n",
    "def predict():\n",
    "    N = request.form['Nitrogen']\n",
    "    P = request.form['Phosporus']\n",
    "    K = request.form['Potassium']\n",
    "    temp = request.form['Temperature']\n",
    "    humidity = request.form['Humidity']\n",
    "    ph = request.form['Ph']\n",
    "    rainfall = request.form['Rainfall']\n",
    "\n",
    "    feature_list = [N, P, K, temp, humidity, ph, rainfall]\n",
    "    single_pred = np.array(feature_list).reshape(1, -1)\n",
    "\n",
    "    scaled_features = ms.transform(single_pred)\n",
    "    final_features = sc.transform(scaled_features)\n",
    "    prediction = model.predict(final_features)\n",
    "\n",
    "    crop_dict = {1: \"Rice\", 2: \"Maize\", 3: \"Jute\", 4: \"Cotton\", 5: \"Coconut\", 6: \"Papaya\", 7: \"Orange\",\n",
    "                 8: \"Apple\", 9: \"Muskmelon\", 10: \"Watermelon\", 11: \"Grapes\", 12: \"Mango\", 13: \"Banana\",\n",
    "                 14: \"Pomegranate\", 15: \"Lentil\", 16: \"Blackgram\", 17: \"Mungbean\", 18: \"Mothbeans\",\n",
    "                 19: \"Pigeonpeas\", 20: \"Kidneybeans\", 21: \"Chickpea\", 22: \"Coffee\"}\n",
    "\n",
    "    if prediction[0] in crop_dict:\n",
    "        crop = crop_dict[prediction[0]]\n",
    "        result = \"{} is the best crop to be cultivated right there\".format(crop)\n",
    "    else:\n",
    "        result = \"Sorry, we could not determine the best crop to be cultivated with the provided data.\"\n",
    "    return render_template('index.html',result = result)\n",
    "\n",
    "\n",
    "\n",
    "\n",
    "# python main\n",
    "if __name__ == \"__main__\":\n",
    "    app.run(debug=True)"
   ]
  },
  {
   "cell_type": "code",
   "execution_count": 3,
   "id": "c85e3df7",
   "metadata": {},
   "outputs": [],
   "source": [
    "import tkinter as tk\n",
    "\n",
    "class HelloWorldApp:\n",
    "    def __init__(self, master):\n",
    "        self.master = master\n",
    "        master.title(\"Hello World App\")\n",
    "\n",
    "        self.label = tk.Label(master, text=\"Hello, World!\")\n",
    "        self.label.pack()\n",
    "\n",
    "        self.quit_button = tk.Button(master, text=\"Quit\", command=master.quit)\n",
    "        self.quit_button.pack()\n",
    "\n",
    "if __name__ == \"__main__\":\n",
    "    root = tk.Tk()\n",
    "    app = HelloWorldApp(root)\n",
    "    root.mainloop()\n"
   ]
  },
  {
   "cell_type": "code",
   "execution_count": 4,
   "id": "64f1837f",
   "metadata": {},
   "outputs": [],
   "source": [
    "import tkinter as tk\n",
    "\n",
    "def on_submit():\n",
    "    user_input = entry.get()\n",
    "    result_label.config(text=f\"User Input: {user_input}\")\n",
    "\n",
    "# Create the main application window\n",
    "app = tk.Tk()\n",
    "app.title(\"User Input App\")\n",
    "\n",
    "# Create a label and entry for user input\n",
    "label = tk.Label(app, text=\"Enter N\")\n",
    "label.pack()\n",
    "label = tk.Label(app, text=\"Enter your data:\")\n",
    "label.pack()\n",
    "\n",
    "entry = tk.Entry(app)\n",
    "entry.pack()\n",
    "\n",
    "# Create a button to submit the data\n",
    "submit_button = tk.Button(app, text=\"Submit\", command=on_submit)\n",
    "submit_button.pack()\n",
    "\n",
    "# Create a label to display the result\n",
    "result_label = tk.Label(app, text=\"\")\n",
    "result_label.pack()\n",
    "\n",
    "# Run the application\n",
    "app.mainloop()\n"
   ]
  },
  {
   "cell_type": "code",
   "execution_count": 7,
   "id": "ac0c4cd4",
   "metadata": {},
   "outputs": [
    {
     "name": "stdout",
     "output_type": "stream",
     "text": [
      "Requirement already satisfied: Flask in c:\\users\\ccc\\anaconda3\\lib\\site-packages (2.2.2)\n",
      "Requirement already satisfied: scikit-learn in c:\\users\\ccc\\anaconda3\\lib\\site-packages (1.3.0)\n",
      "Requirement already satisfied: Werkzeug>=2.2.2 in c:\\users\\ccc\\anaconda3\\lib\\site-packages (from Flask) (2.2.3)\n",
      "Requirement already satisfied: Jinja2>=3.0 in c:\\users\\ccc\\anaconda3\\lib\\site-packages (from Flask) (3.1.2)\n",
      "Requirement already satisfied: itsdangerous>=2.0 in c:\\users\\ccc\\anaconda3\\lib\\site-packages (from Flask) (2.0.1)\n",
      "Requirement already satisfied: click>=8.0 in c:\\users\\ccc\\anaconda3\\lib\\site-packages (from Flask) (8.0.4)\n",
      "Requirement already satisfied: numpy>=1.17.3 in c:\\users\\ccc\\anaconda3\\lib\\site-packages (from scikit-learn) (1.24.3)\n",
      "Requirement already satisfied: scipy>=1.5.0 in c:\\users\\ccc\\anaconda3\\lib\\site-packages (from scikit-learn) (1.11.1)\n",
      "Requirement already satisfied: joblib>=1.1.1 in c:\\users\\ccc\\anaconda3\\lib\\site-packages (from scikit-learn) (1.2.0)\n",
      "Requirement already satisfied: threadpoolctl>=2.0.0 in c:\\users\\ccc\\anaconda3\\lib\\site-packages (from scikit-learn) (2.2.0)\n",
      "Requirement already satisfied: colorama in c:\\users\\ccc\\anaconda3\\lib\\site-packages (from click>=8.0->Flask) (0.4.6)\n",
      "Requirement already satisfied: MarkupSafe>=2.0 in c:\\users\\ccc\\anaconda3\\lib\\site-packages (from Jinja2>=3.0->Flask) (2.1.1)\n"
     ]
    }
   ],
   "source": [
    "!pip install Flask scikit-learn\n"
   ]
  },
  {
   "cell_type": "code",
   "execution_count": null,
   "id": "84cb053c",
   "metadata": {},
   "outputs": [],
   "source": []
  }
 ],
 "metadata": {
  "kernelspec": {
   "display_name": "Python 3 (ipykernel)",
   "language": "python",
   "name": "python3"
  },
  "language_info": {
   "codemirror_mode": {
    "name": "ipython",
    "version": 3
   },
   "file_extension": ".py",
   "mimetype": "text/x-python",
   "name": "python",
   "nbconvert_exporter": "python",
   "pygments_lexer": "ipython3",
   "version": "3.11.5"
  }
 },
 "nbformat": 4,
 "nbformat_minor": 5
}
